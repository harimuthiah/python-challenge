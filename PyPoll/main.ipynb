{
 "cells": [
  {
   "cell_type": "code",
   "execution_count": 1,
   "metadata": {},
   "outputs": [],
   "source": [
    "# Import the operating system module\n",
    "import os"
   ]
  },
  {
   "cell_type": "code",
   "execution_count": 2,
   "metadata": {},
   "outputs": [],
   "source": [
    "# Import the module for reading CSV file\n",
    "import csv"
   ]
  },
  {
   "cell_type": "code",
   "execution_count": 3,
   "metadata": {},
   "outputs": [],
   "source": [
    "# Specify the file to Read to\n",
    "csvpath = os.path.join('Resources', 'election_data.csv')"
   ]
  },
  {
   "cell_type": "code",
   "execution_count": 4,
   "metadata": {},
   "outputs": [],
   "source": [
    "# Variables\n",
    "Candidate_List = []\n",
    "Candidate_List_all = []\n",
    "Prev_cnt = 0\n",
    "output_row = []"
   ]
  },
  {
   "cell_type": "code",
   "execution_count": 5,
   "metadata": {},
   "outputs": [],
   "source": [
    "# Open the file using \"Read\" mode. Specify the variable to hold the contents\n",
    "with open(csvpath, 'r', newline='') as csvfile:\n",
    "    # CSV reader specifies delimiter and variable that holds contents\n",
    "    csvreader = csv.reader(csvfile, delimiter=',')\n",
    "    #print(csvreader)\n",
    "    \n",
    "    # Read the header row first (skip this step if there is now header)\n",
    "    csv_header = next(csvreader)\n",
    "    #print(f\"CSV Header: {csv_header}\")\n",
    "\n",
    "    # Read each row of data after the header\n",
    "    for row in csvreader:\n",
    "        #print(row)\n",
    "        \n",
    "        Candidate_List_all.append(row[2])\n",
    "        \n",
    "        # Unique Candidate List\n",
    "        if row[2] not in Candidate_List:\n",
    "            Candidate_List.append(row[2]) "
   ]
  },
  {
   "cell_type": "code",
   "execution_count": 6,
   "metadata": {},
   "outputs": [],
   "source": [
    "#Create Summary\n",
    "\n",
    "output_row.append(\"Election Results\")\n",
    "output_row.append(\"-------------------------\")\n",
    "Total_Votes = len(Candidate_List_all)\n",
    "output_row.append(f\"Total Votes: {Total_Votes}\")\n",
    "output_row.append(\"-------------------------\")\n",
    "\n",
    "for Candidate in Candidate_List:\n",
    "    Candidate_cnt = Candidate_List_all.count(Candidate)\n",
    "    output_row.append(f\"{Candidate}: {round((Candidate_cnt/Total_Votes)*100,3)}% ({Candidate_cnt})\")\n",
    "    if Candidate_cnt > Prev_cnt:\n",
    "        Winner = Candidate\n",
    "    Prev_cnt = Candidate_cnt\n",
    "    \n",
    "output_row.append(\"-------------------------\")\n",
    "output_row.append(f\"Winner: {Winner}\")\n",
    "output_row.append(\"-------------------------\")\n"
   ]
  },
  {
   "cell_type": "code",
   "execution_count": 7,
   "metadata": {},
   "outputs": [],
   "source": [
    "# Specify the file to write to\n",
    "output_path = os.path.join('Resources', \"new.csv\")"
   ]
  },
  {
   "cell_type": "code",
   "execution_count": 8,
   "metadata": {},
   "outputs": [
    {
     "name": "stdout",
     "output_type": "stream",
     "text": [
      "Election Results\n",
      "-------------------------\n",
      "Total Votes: 3521001\n",
      "-------------------------\n",
      "Khan: 63.0% (2218231)\n",
      "Correy: 20.0% (704200)\n",
      "Li: 14.0% (492940)\n",
      "O'Tooley: 3.0% (105630)\n",
      "-------------------------\n",
      "Winner: Khan\n",
      "-------------------------\n"
     ]
    }
   ],
   "source": [
    "# Open the file using \"write\" mode. Specify the variable to hold the contents\n",
    "with open(output_path, 'w', newline = '') as outfile:\n",
    "    # Initialize csv.writer\n",
    "    csvwriter = csv.writer(outfile, delimiter = ',')\n",
    "    #print(csvwriter)\n",
    "\n",
    "    # Write output\n",
    "    for row in output_row:\n",
    "        print(row)\n",
    "        csvwriter.writerow([row])   "
   ]
  },
  {
   "cell_type": "code",
   "execution_count": 9,
   "metadata": {},
   "outputs": [],
   "source": [
    "!open Resources/new.csv"
   ]
  }
 ],
 "metadata": {
  "kernelspec": {
   "display_name": "Python 3",
   "language": "python",
   "name": "python3"
  },
  "language_info": {
   "codemirror_mode": {
    "name": "ipython",
    "version": 3
   },
   "file_extension": ".py",
   "mimetype": "text/x-python",
   "name": "python",
   "nbconvert_exporter": "python",
   "pygments_lexer": "ipython3",
   "version": "3.7.3"
  }
 },
 "nbformat": 4,
 "nbformat_minor": 2
}
