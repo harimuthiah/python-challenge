{
 "cells": [
  {
   "cell_type": "code",
   "execution_count": 1,
   "metadata": {},
   "outputs": [],
   "source": [
    "# Import the operating system module\n",
    "import os"
   ]
  },
  {
   "cell_type": "code",
   "execution_count": 2,
   "metadata": {},
   "outputs": [],
   "source": [
    "# Import the module for reading CSV file\n",
    "import csv"
   ]
  },
  {
   "cell_type": "code",
   "execution_count": 3,
   "metadata": {},
   "outputs": [],
   "source": [
    "# Specify the file to Read to\n",
    "csvpath = os.path.join('Resources', 'budget_data.csv')"
   ]
  },
  {
   "cell_type": "code",
   "execution_count": 4,
   "metadata": {},
   "outputs": [],
   "source": [
    "# Variables\n",
    "Total_Months = 0\n",
    "Total = 0\n",
    "prev_num = 0\n",
    "Date_List = []\n",
    "Profit_Losses_List = []\n",
    "Profit_Losses_change = []\n",
    "month_change = []"
   ]
  },
  {
   "cell_type": "code",
   "execution_count": 5,
   "metadata": {},
   "outputs": [],
   "source": [
    "# Open the file using \"Read\" mode. Specify the variable to hold the contents\n",
    "with open(csvpath, 'r', newline='') as csvfile:\n",
    "    # CSV reader specifies delimiter and variable that holds contents\n",
    "    csvreader = csv.reader(csvfile, delimiter=',')\n",
    "    #print(csvreader)\n",
    "    \n",
    "    # Read the header row first (skip this step if there is now header)\n",
    "    csv_header = next(csvreader)\n",
    "    #print(f\"CSV Header: {csv_header}\")\n",
    "\n",
    "    # Read each row of data after the header\n",
    "    for row in csvreader:\n",
    "        #print(row)\n",
    "        # Calculate Total Months, Total, Average Change, Greatest Increase in Profits, Greatest Decrease in Profits\n",
    "        Total_Months = Total_Months + 1\n",
    "        Total = Total + int(row[1])\n",
    "        # Profit/Losses List\n",
    "        Profit_Losses_List.append(int(row[1]))\n",
    "        # Date List\n",
    "        Date_List.append(row[0])"
   ]
  },
  {
   "cell_type": "code",
   "execution_count": 6,
   "metadata": {},
   "outputs": [],
   "source": [
    "# Average Change\n",
    "for numbers in Profit_Losses_List:\n",
    "    if Profit_Losses_List.index(numbers) != 0:\n",
    "        # Profit/Losses change\n",
    "        change = int(numbers) - prev_num\n",
    "        Profit_Losses_change.append(change)\n",
    "        month_change.append(Date_List[Profit_Losses_List.index(numbers)])\n",
    "    prev_num = int(numbers)"
   ]
  },
  {
   "cell_type": "code",
   "execution_count": 7,
   "metadata": {},
   "outputs": [
    {
     "name": "stdout",
     "output_type": "stream",
     "text": [
      "Financial Analysis\n",
      "----------------------------\n",
      "Total Months: 86\n",
      "Total: $38382578\n",
      "Average  Change: $-2315.12\n",
      "Greatest Increase in Profits: (Feb-2012) $1926159\n",
      "Greatest Decrease in Profits: (Sep-2013) $-2196167\n"
     ]
    }
   ],
   "source": [
    "if Profit_Losses_List.index(numbers) != 0:\n",
    "    max_value = max(Profit_Losses_change)\n",
    "    max_month = month_change[Profit_Losses_change.index(max_value)]\n",
    "    max_month_value = f\"{str(max_month)} ({str(max_value)})\"\n",
    "    min_value = min(Profit_Losses_change)\n",
    "    min_month = month_change[Profit_Losses_change.index(min_value)]\n",
    "    min_month_value = f\"{str(min_month)} ({str(min_value)})\"\n",
    "    avg_value = round(sum(Profit_Losses_change)/len(Profit_Losses_change),2)\n",
    "    output_csv = [str(Total_Months), str(Total), str(avg_value), max_month_value, min_month_value]\n",
    "    print(\"Financial Analysis\")\n",
    "    print(\"----------------------------\")  \n",
    "    print(f\"Total Months: {Total_Months}\")\n",
    "    print(f\"Total: ${Total}\")\n",
    "    print(f\"Average  Change: ${avg_value}\")\n",
    "    print(f\"Greatest Increase in Profits: ({max_month}) ${max_value}\")\n",
    "    print(f\"Greatest Decrease in Profits: ({min_month}) ${min_value}\")\n",
    "else:\n",
    "    print(f\"No summary to print\")"
   ]
  },
  {
   "cell_type": "code",
   "execution_count": 8,
   "metadata": {},
   "outputs": [],
   "source": [
    "# Specify the file to write to\n",
    "output_path = os.path.join('Resources', \"new.csv\")"
   ]
  },
  {
   "cell_type": "code",
   "execution_count": 9,
   "metadata": {},
   "outputs": [],
   "source": [
    "# Open the file using \"write\" mode. Specify the variable to hold the contents\n",
    "with open(output_path, 'w', newline='') as outfile:\n",
    "    # Initialize csv.writer\n",
    "    csvwriter = csv.writer(outfile, delimiter=',')\n",
    "    #print(csvwriter)\n",
    "    \n",
    "    # Write the header row\n",
    "    csvwriter.writerow([\"Total Months\", \"Total\", \"Average Change\", \"Greatest Increase in Profits\",\n",
    "                     \"Greatest Decrease in Profits\"])\n",
    "\n",
    "    # Write output\n",
    "    csvwriter.writerow(output_csv)"
   ]
  },
  {
   "cell_type": "code",
   "execution_count": 10,
   "metadata": {},
   "outputs": [],
   "source": [
    "!open Resources/new.csv"
   ]
  }
 ],
 "metadata": {
  "kernelspec": {
   "display_name": "Python 3",
   "language": "python",
   "name": "python3"
  },
  "language_info": {
   "codemirror_mode": {
    "name": "ipython",
    "version": 3
   },
   "file_extension": ".py",
   "mimetype": "text/x-python",
   "name": "python",
   "nbconvert_exporter": "python",
   "pygments_lexer": "ipython3",
   "version": "3.7.3"
  }
 },
 "nbformat": 4,
 "nbformat_minor": 2
}
